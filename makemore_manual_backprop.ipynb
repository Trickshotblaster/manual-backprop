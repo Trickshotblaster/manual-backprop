{
 "cells": [
  {
   "cell_type": "code",
   "execution_count": 1,
   "metadata": {},
   "outputs": [],
   "source": [
    "import torch\n",
    "import torch.nn.functional as F\n",
    "import matplotlib.pyplot as plt\n",
    "%matplotlib inline"
   ]
  },
  {
   "cell_type": "code",
   "execution_count": 2,
   "metadata": {},
   "outputs": [
    {
     "name": "stdout",
     "output_type": "stream",
     "text": [
      "Number of names: 32033\n",
      "Max name length: 15\n",
      "First 8 names: ['emma', 'olivia', 'ava', 'isabella', 'sophia', 'charlotte', 'mia', 'amelia']\n"
     ]
    }
   ],
   "source": [
    "with open(\"names.txt\", \"r\") as f:\n",
    "    words = f.read().splitlines()\n",
    "print(f\"Number of names: {len(words)}\")\n",
    "print(f\"Max name length: {max(len(word) for word in words)}\")\n",
    "print(f\"First 8 names: {words[:8]}\")"
   ]
  },
  {
   "cell_type": "code",
   "execution_count": 3,
   "metadata": {},
   "outputs": [
    {
     "name": "stdout",
     "output_type": "stream",
     "text": [
      "Vocab size: 27\n",
      "{'a': 1, 'b': 2, 'c': 3, 'd': 4, 'e': 5, 'f': 6, 'g': 7, 'h': 8, 'i': 9, 'j': 10, 'k': 11, 'l': 12, 'm': 13, 'n': 14, 'o': 15, 'p': 16, 'q': 17, 'r': 18, 's': 19, 't': 20, 'u': 21, 'v': 22, 'w': 23, 'x': 24, 'y': 25, 'z': 26, '.': 0}\n"
     ]
    }
   ],
   "source": [
    "chars = sorted(set(\"\".join(words)))\n",
    "stoi = {char:i+1 for i, char in enumerate(chars)}\n",
    "stoi[\".\"] = 0\n",
    "itos = {i:char for i, char in stoi.items()}\n",
    "vocab_size = len(itos)\n",
    "print(\"Vocab size:\", vocab_size)\n",
    "print(itos)"
   ]
  },
  {
   "cell_type": "code",
   "execution_count": 4,
   "metadata": {},
   "outputs": [
    {
     "name": "stdout",
     "output_type": "stream",
     "text": [
      "torch.Size([131200, 3]) torch.Size([131200, 1])\n",
      "torch.Size([16440, 3]) torch.Size([16440, 1])\n",
      "torch.Size([16440, 3]) torch.Size([16440, 1])\n"
     ]
    }
   ],
   "source": [
    "block_size = 3\n",
    "\n",
    "def build_dataset(words):\n",
    "    x, y = [], []\n",
    "    for word in words:\n",
    "        context = [0] * block_size\n",
    "        for char, next in zip(word, word[1:]):\n",
    "            x.append(context)\n",
    "            y.append([stoi[next]])\n",
    "            context = context[1:] + [stoi[char]]\n",
    "    x = torch.tensor(x)\n",
    "    y = torch.tensor(y)\n",
    "    print(x.shape, y.shape)\n",
    "    return x, y\n",
    "\n",
    "import random\n",
    "random.shuffle(words)\n",
    "split1 = int(0.8*len(words))\n",
    "split2 = int(0.9*len(words))\n",
    "\n",
    "Xtr, Ytr = build_dataset(words[:split1])\n",
    "Xdev, Ydev = build_dataset(words[split1:split2])\n",
    "Xte, Yte = build_dataset(words[split2:])"
   ]
  },
  {
   "cell_type": "code",
   "execution_count": 5,
   "metadata": {},
   "outputs": [],
   "source": [
    "def cmp(s, dt, t):\n",
    "    ex = torch.all(dt == t.grad).item()\n",
    "    app = torch.allclose(dt, t.grad)\n",
    "    maxdiff = (dt - t.grad).abs().max().item()\n",
    "    print(f\"{s:15s} | exact: {str(ex):5s} | approximate: {str(app):5s} | maxdiff: {maxdiff}\")"
   ]
  },
  {
   "cell_type": "code",
   "execution_count": 6,
   "metadata": {},
   "outputs": [
    {
     "name": "stdout",
     "output_type": "stream",
     "text": [
      "4137\n"
     ]
    }
   ],
   "source": [
    "n_embd = 10\n",
    "n_hidden = 64\n",
    "\n",
    "C = torch.randn((vocab_size, n_embd))\n",
    "w1 = torch.randn((n_embd * block_size, n_hidden)) * (5/3)/((n_embd*block_size)**0.5)\n",
    "b1 = torch.randn((n_hidden)) * 0.1\n",
    "w2 = torch.randn((n_hidden, vocab_size)) *0.1#/ (n_embd * block_size)**0.5\n",
    "b2 = torch.randn((vocab_size)) * 0.1\n",
    "\n",
    "bngain = torch.randn((1, n_hidden)) * 0.1 + 1.0\n",
    "bnbias = torch.randn((1, n_hidden)) * 0.1\n",
    "\n",
    "parameters = [C, w1, b1, w2, b2, bngain, bnbias]\n",
    "print(sum(p.numel() for p in parameters))\n",
    "for p in parameters:\n",
    "    p.requires_grad = True"
   ]
  },
  {
   "cell_type": "code",
   "execution_count": 7,
   "metadata": {},
   "outputs": [],
   "source": [
    "batch_size = 32\n",
    "n = batch_size\n",
    "\n",
    "idx = torch.randint(0, Xtr.shape[0], (batch_size,))\n",
    "Xb, Yb = Xtr[idx], Ytr[idx]"
   ]
  },
  {
   "cell_type": "code",
   "execution_count": 8,
   "metadata": {},
   "outputs": [
    {
     "data": {
      "text/plain": [
       "tensor(3.4099, grad_fn=<NegBackward0>)"
      ]
     },
     "execution_count": 8,
     "metadata": {},
     "output_type": "execute_result"
    }
   ],
   "source": [
    "# embedding\n",
    "emb = C[Xb]\n",
    "embcat = emb.view(batch_size, -1)\n",
    "# layer 1\n",
    "hprebn = embcat @ w1 + b1\n",
    "# batchnorm\n",
    "bnmeani = hprebn.sum(0, keepdim=True) * (1/n) # = sum/n = mean\n",
    "bndiff = hprebn - bnmeani\n",
    "bndiff2 = bndiff ** 2\n",
    "bnvar = bndiff2.sum(0, keepdim=True) * (1/(n-1))\n",
    "bnvar_inv = (bnvar + 1e-5) ** -0.5\n",
    "bnraw = bndiff * bnvar_inv # (x-mean) / std\n",
    "hpreact = bngain * bnraw + bnbias\n",
    "# output\n",
    "h = torch.tanh(hpreact)\n",
    "logits = h @ w2 + b2\n",
    "\n",
    "# loss (cross-entropy)\n",
    "logit_maxes = logits.max(1, keepdim=True).values\n",
    "norm_logits = logits - logit_maxes\n",
    "counts = norm_logits.exp()\n",
    "counts_sum = counts.sum(1, keepdim=True)\n",
    "counts_sum_inv = counts_sum ** -1\n",
    "probs = counts * counts_sum_inv\n",
    "logprobs = probs.log()\n",
    "loss = -logprobs[range(n), Yb].mean()\n",
    "\n",
    "# pytorch backward\n",
    "for p in parameters:\n",
    "    p.grad = None\n",
    "for t in [logprobs, probs, counts, counts_sum, counts_sum_inv,\n",
    "           norm_logits, logit_maxes, logits, h, hpreact,\n",
    "             bnraw, bnvar_inv, bnvar, bndiff2, bndiff, hprebn,\n",
    "               bnmeani, embcat, emb]:\n",
    "    t.retain_grad()\n",
    "loss.backward()\n",
    "loss\n"
   ]
  },
  {
   "cell_type": "code",
   "execution_count": 9,
   "metadata": {},
   "outputs": [
    {
     "data": {
      "image/png": "[encoded data removed]",
      "text/plain": [
       "<Figure size 640x480 with 1 Axes>"
      ]
     },
     "metadata": {},
     "output_type": "display_data"
    }
   ],
   "source": [
    "for p in parameters:\n",
    "    plt.hist(p.grad.detach().view(-1).tolist())\n",
    "plt.show()"
   ]
  },
  {
   "cell_type": "code",
   "execution_count": null,
   "metadata": {},
   "outputs": [
    {
     "name": "stdout",
     "output_type": "stream",
     "text": [
      "logprobs        | exact: True  | approximate: True  | maxdiff: 0.0\n",
      "probs           | exact: False | approximate: True  | maxdiff: 2.9802322387695312e-08\n",
      "counts_sum_inv  | exact: False | approximate: True  | maxdiff: 2.9802322387695312e-08\n",
      "counts_sum      | exact: False | approximate: True  | maxdiff: 2.3283064365386963e-10\n",
      "counts          | exact: False | approximate: True  | maxdiff: 3.725290298461914e-09\n",
      "norm_logits     | exact: False | approximate: True  | maxdiff: 4.656612873077393e-10\n",
      "logit_maxes     | exact: False | approximate: True  | maxdiff: 5.122274160385132e-09\n",
      "logits          | exact: False | approximate: True  | maxdiff: 4.889443516731262e-09\n",
      "h               | exact: False | approximate: True  | maxdiff: 1.2223608791828156e-09\n",
      "w2              | exact: False | approximate: True  | maxdiff: 2.0489096641540527e-08\n",
      "b2              | exact: False | approximate: True  | maxdiff: 1.4901161193847656e-08\n",
      "hpreact         | exact: False | approximate: True  | maxdiff: 1.280568540096283e-09\n",
      "bnraw           | exact: False | approximate: True  | maxdiff: 1.280568540096283e-09\n",
      "bnvar_inv       | exact: False | approximate: True  | maxdiff: 3.259629011154175e-09\n",
      "bnvar           | exact: False | approximate: True  | maxdiff: 1.0477378964424133e-09\n",
      "bngain          | exact: False | approximate: True  | maxdiff: 2.3283064365386963e-09\n",
      "bnbias          | exact: False | approximate: True  | maxdiff: 5.587935447692871e-09\n",
      "bndiff2         | exact: False | approximate: True  | maxdiff: 3.2741809263825417e-11\n",
      "bndiff          | exact: False | approximate: True  | maxdiff: 1.0186340659856796e-09\n",
      "bnmeani         | exact: False | approximate: True  | maxdiff: 3.725290298461914e-09\n",
      "hprebn          | exact: False | approximate: True  | maxdiff: 9.89530235528946e-10\n",
      "w1              | exact: False | approximate: True  | maxdiff: 8.381903171539307e-09\n",
      "b1              | exact: False | approximate: True  | maxdiff: 3.14321368932724e-09\n",
      "embcat          | exact: False | approximate: True  | maxdiff: 1.3387762010097504e-09\n",
      "emb             | exact: False | approximate: True  | maxdiff: 1.3387762010097504e-09\n",
      "C               | exact: False | approximate: True  | maxdiff: 6.05359673500061e-09\n"
     ]
    }
   ],
   "source": [
    "# Exercise 1: backprop through the whole thing manually,\n",
    "# backpropagating through exactly all of the variables\n",
    "# as they are defined in the forward pass above, one by one\n",
    "\n",
    "dlogprobs = torch.zeros_like(logprobs) \n",
    "for b in range(n):\n",
    "    for y in Yb:\n",
    "        dlogprobs[b, y] += -1/logprobs[range(n), Yb].numel()\n",
    "\n",
    "dprobs = dlogprobs * (1/probs) # chain rule\n",
    "dcounts_sum_inv = (dprobs * counts).sum(1, keepdim=True) # I guess we have to apply all shape-changing operations to derivative\n",
    "dcounts_sum = dcounts_sum_inv * -counts_sum**-2\n",
    "# dloss/dcounts = dloss/dcounts_sum * dcounts_sum/dcounts\n",
    "# dcounts_sum/d_counts should be 1s in the shape of counts\n",
    "# assuming counts is [[a, b], [c, d]],\n",
    "# counts_sum = \n",
    "# [[a, b],\n",
    "# [c, d]].sum(1, keepdim=True)\n",
    "# --> \n",
    "# [[a+c],\n",
    "# [b+d]]\n",
    "# Therefore dcounts_sum/da = 1 + 0 = 1\n",
    "# dcounts_sum/db = 0 + 1 = 1\n",
    "# etc ->\n",
    "# counts_grad = \n",
    "# [[1, 1],\n",
    "# [1, 1]]\n",
    "# So, by chain rule, dloss/dcounts = dloss/dcounts_sum * dcounts_sum/dcounts\n",
    "# = dloss/dcounts_sum * counts_grad (ones in shape of counts)\n",
    "# counts are also used in calculation of probs\n",
    "# so just add dcounts/dloss using chain rule with probs\n",
    "dcounts = dcounts_sum * torch.ones_like(counts) + counts_sum_inv * dprobs\n",
    "dnorm_logits = counts * dcounts\n",
    "# ok so max is a little weird\n",
    "# imagine you have a tensor a = [[0.2, 6.9], [-1.4, 3.2]]\n",
    "# and then you take the max of it and transform that to get an output\n",
    "# if you shift a by a tiny amount to get the gradient of the max of a,\n",
    "# the max of a will not change, therefore the gradient of the max is zero\n",
    "dlogit_maxes = -1 * torch.zeros_like(logit_maxes)\n",
    "dlogits = 0 + dnorm_logits * 1 # dloss/dlogit_maxes * dlogit_maxes/dlogits + dloss/dnorm_logits * dnorm_logits/dlogits\n",
    "dh = dlogits @ w2.T # dloss/dlogits * dlogits/dh = dlogits * w2 (derivative of matmul is to matmul by transpose??)\n",
    "dw2 = h.T @ dlogits # ok so its matmul by transpose but make sure its on the same side as before\n",
    "# also it no longer says its an approximate here but the max diff is 6e-8 which seems like floating point error to me\n",
    "db2 = torch.ones_like(b2) * dlogits.sum(0, keepdim=True) # dlogits/db2 is just going to be 1s in the shape of b2\n",
    "# but we also need to apply chain rule by multiplying by dloss/dlogits\n",
    "# the problem is that dlogits is (32, 27), while db2 is (27)\n",
    "# we can force dlogits to be (1, 27) by summing along dim 0\n",
    "# tbh idk why this works \\_(\"/)_/\n",
    "dhpreact = (1/(torch.pow((torch.exp(hpreact) + torch.exp(-hpreact))/2, 2))) * dh # thanks calculus 1\n",
    "dbngain = (bnraw * dhpreact).sum(0, keepdim=True) # sum is a lifesaver and idek why it works\n",
    "dbnbias = 1 * dhpreact.sum(0, keepdim=True)\n",
    "dbnraw = bngain * dhpreact\n",
    "dbnvar_inv = (bndiff * dbnraw).sum(0, keepdim=True) \n",
    "dbnvar = -0.5*(bnvar + 1e-5)**-1.5 * dbnvar_inv\n",
    "dbndiff2 = 1/(n-1) * dbnvar\n",
    "dbndiff = 2 * bndiff * dbndiff2 + bnvar_inv.expand(bndiff.size()) * dbnraw\n",
    "dbnmeani = -1 * dbndiff.sum(0, keepdim=True)\n",
    "dhprebn = 1/n * dbnmeani + 1 * dbndiff\n",
    "dw1 = embcat.T @ dhprebn # again it says not approximate but 3e-8 diff is too small\n",
    "db1 = 1.0 * dhprebn.sum(0, keepdim=True)\n",
    "dembcat = dhprebn @ w1.T\n",
    "demb = dembcat.view(emb.size())\n",
    "dC = torch.zeros_like(C)\n",
    "for num, b in enumerate(Xb):\n",
    "     for num2, i in enumerate(b):\n",
    "         dC[i] += demb[num][num2]\n",
    "# -------------------------------------------------------------------------------------------\n",
    "cmp(\"logprobs\", dlogprobs, logprobs)\n",
    "cmp(\"probs\", dprobs, probs)\n",
    "cmp(\"counts_sum_inv\", dcounts_sum_inv, counts_sum_inv)\n",
    "cmp(\"counts_sum\", dcounts_sum, counts_sum)\n",
    "cmp(\"counts\", dcounts, counts)\n",
    "cmp(\"norm_logits\", dnorm_logits, norm_logits)\n",
    "cmp(\"logit_maxes\", dlogit_maxes, logit_maxes)\n",
    "cmp(\"logits\", dlogits, logits)\n",
    "cmp(\"h\", dh, h)\n",
    "cmp(\"w2\", dw2, w2)\n",
    "cmp(\"b2\", db2, b2)\n",
    "cmp(\"hpreact\", dhpreact, hpreact)\n",
    "cmp(\"bnraw\", dbnraw, bnraw)\n",
    "cmp(\"bnvar_inv\", dbnvar_inv, bnvar_inv)\n",
    "cmp(\"bnvar\", dbnvar, bnvar)\n",
    "cmp(\"bngain\", dbngain, bngain)\n",
    "cmp(\"bnbias\", dbnbias, bnbias)\n",
    "cmp(\"bndiff2\", dbndiff2, bndiff2)\n",
    "cmp(\"bndiff\", dbndiff, bndiff)\n",
    "cmp(\"bnmeani\", dbnmeani, bnmeani)\n",
    "cmp(\"hprebn\", dhprebn, hprebn)\n",
    "cmp(\"w1\", dw1, w1)\n",
    "cmp(\"b1\", db1, b1)\n",
    "cmp(\"embcat\", dembcat, embcat)\n",
    "cmp(\"emb\", demb, emb)\n",
    "cmp(\"C\", dC, C)"
   ]
  },
  {
   "cell_type": "code",
   "execution_count": 15,
   "metadata": {},
   "outputs": [
    {
     "name": "stdout",
     "output_type": "stream",
     "text": [
      "tensor(-2., grad_fn=<SumBackward0>)\n",
      "1\n",
      "None\n"
     ]
    },
    {
     "name": "stderr",
     "output_type": "stream",
     "text": [
      "C:\\Users\\brodi\\AppData\\Local\\Temp\\ipykernel_12784\\1971916642.py:8: UserWarning: The .grad attribute of a Tensor that is not a leaf Tensor is being accessed. Its .grad attribute won't be populated during autograd.backward(). If you indeed want the .grad field to be populated for a non-leaf Tensor, use .retain_grad() on the non-leaf Tensor. If you access the non-leaf Tensor by mistake, make sure you access the leaf Tensor instead. See github.com/pytorch/pytorch/pull/30531 for more informations. (Triggered internally at C:\\actions-runner\\_work\\pytorch\\pytorch\\builder\\windows\\pytorch\\build\\aten\\src\\ATen/core/TensorBody.h:494.)\n",
      "  print(A.grad)\n"
     ]
    }
   ],
   "source": [
    "A = torch.tensor([[1., 2.], [3., 4.]], requires_grad=True).max(1, keepdim=True).values\n",
    "B = torch.tensor([[1., 2.], [3., 4.]], requires_grad=True)\n",
    "f = (B-A).sum()\n",
    "print(f)\n",
    "expected = 1\n",
    "print(expected)\n",
    "f.backward()\n",
    "print(A.grad)"
   ]
  },
  {
   "cell_type": "code",
   "execution_count": 16,
   "metadata": {},
   "outputs": [
    {
     "name": "stdout",
     "output_type": "stream",
     "text": [
      "tensor([[-1.0412,  0.7524,  0.0895,  0.1979],\n",
      "        [-0.4305,  0.4313,  0.4427,  0.0980],\n",
      "        [-0.1568,  0.1848,  0.2551,  0.0394]])\n",
      "tensor([[-1.0412,  0.7524,  0.0895,  0.1979],\n",
      "        [-0.4305,  0.4313,  0.4427,  0.0980],\n",
      "        [-0.1568,  0.1848,  0.2551,  0.0394]])\n"
     ]
    }
   ],
   "source": [
    "Y = torch.zeros((3, 4))\n",
    "X = torch.randn((3, 2))\n",
    "A = torch.randn((2, 4))\n",
    "for i in range(X.size(0)):\n",
    "    for j in range(A.size(1)):\n",
    "        Y[i, j] = sum(X[i, k] * A[k, j] for k in range(A.size(0)))\n",
    "print(Y)\n",
    "print(X @ A)"
   ]
  }
 ],
 "metadata": {
  "kernelspec": {
   "display_name": "Python 3",
   "language": "python",
   "name": "python3"
  },
  "language_info": {
   "codemirror_mode": {
    "name": "ipython",
    "version": 3
   },
   "file_extension": ".py",
   "mimetype": "text/x-python",
   "name": "python",
   "nbconvert_exporter": "python",
   "pygments_lexer": "ipython3",
   "version": "3.9.13"
  }
 },
 "nbformat": 4,
 "nbformat_minor": 2
}
